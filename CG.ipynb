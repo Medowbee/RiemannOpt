{
 "cells": [
  {
   "cell_type": "code",
   "execution_count": 2,
   "id": "bc76f7b7",
   "metadata": {},
   "outputs": [],
   "source": [
    "# we have to set env variable to use propack, if we want to use sparse2tuck\n",
    "import os\n",
    "os.environ[\"SCIPY_USE_PROPACK\"] = \"1\""
   ]
  },
  {
   "cell_type": "code",
   "execution_count": 5,
   "id": "7b1c35b0",
   "metadata": {},
   "outputs": [],
   "source": [
    "import scipy\n",
    "import numpy as np\n",
    "import matplotlib.pyplot as plt\n",
    "plt.rcParams[\"figure.figsize\"] = (8,8)\n",
    "import torch\n",
    "import tucker_riemopt\n",
    "from tucker_riemopt import backend as back\n",
    "from tucker_riemopt import set_backend\n",
    "from tucker_riemopt.tucker.tucker import Tucker"
   ]
  },
  {
   "cell_type": "code",
   "execution_count": 6,
   "id": "911603db",
   "metadata": {},
   "outputs": [],
   "source": [
    "#init tensor, mask and sparse tessor\n",
    "set_backend(\"pytorch\")\n",
    "A = back.zeros([64,64,64])\n",
    "for i in range(64):\n",
    "    for j in range(64):\n",
    "        for k in range(64):\n",
    "            A[i][j][k] = np.sin(i+j+k)\n",
    "            \n",
    "Omega = back.zeros([64,64,64])\n",
    "for i in range(64):\n",
    "    for j in range(64):\n",
    "        for k in range(64):\n",
    "            Omega[i][j][k] = 1 if np.random.uniform()<0.5 else 0\n",
    "Asp = A*Omega #element wise multiplication"
   ]
  },
  {
   "cell_type": "code",
   "execution_count": 7,
   "id": "a8ee9980",
   "metadata": {},
   "outputs": [],
   "source": [
    "Omega_tucker = Tucker.from_dense(Omega)"
   ]
  },
  {
   "cell_type": "code",
   "execution_count": 13,
   "id": "dd414473",
   "metadata": {},
   "outputs": [
    {
     "data": {
      "text/plain": [
       "array([[0, 1, 3],\n",
       "       [0, 1, 3],\n",
       "       [0, 1, 3]])"
      ]
     },
     "execution_count": 13,
     "metadata": {},
     "output_type": "execute_result"
    }
   ],
   "source": [
    "np.array([[0,1,3], [0,1,3], [0,1,3]])"
   ]
  },
  {
   "cell_type": "code",
   "execution_count": 22,
   "id": "70008dcd",
   "metadata": {
    "scrolled": true
   },
   "outputs": [
    {
     "name": "stderr",
     "output_type": "stream",
     "text": [
      "/Users/ilakosolapov/anaconda3/lib/python3.10/site-packages/tucker_riemopt/backend/pytorch_backend.py:39: UserWarning: To copy construct from a tensor, it is recommended to use sourceTensor.clone().detach() or sourceTensor.clone().detach().requires_grad_(True), rather than torch.tensor(sourceTensor).\n",
      "  return torch.tensor(data, dtype=dtype, device=device, requires_grad=requires_grad)\n"
     ]
    }
   ],
   "source": [
    "ST =tucker_riemopt.sparse.SparseTensor([64,64,64],np.array([[0,1,3], [0,1,3], [0,1,7]]),np.zeros(3)+5)\n",
    "ST_tucker = Tucker.sparse2tuck(ST,[3,3,3])"
   ]
  },
  {
   "cell_type": "code",
   "execution_count": 25,
   "id": "49d5e446",
   "metadata": {},
   "outputs": [],
   "source": [
    "T = Tucker.from_dense(A)"
   ]
  },
  {
   "cell_type": "code",
   "execution_count": 60,
   "id": "596da28b",
   "metadata": {
    "scrolled": false
   },
   "outputs": [
    {
     "data": {
      "text/plain": [
       "0.00030073363"
      ]
     },
     "execution_count": 60,
     "metadata": {},
     "output_type": "execute_result"
    }
   ],
   "source": [
    "np.linalg.norm(A-T.round([2,2,2]).to_dense())"
   ]
  }
 ],
 "metadata": {
  "kernelspec": {
   "display_name": "Python 3 (ipykernel)",
   "language": "python",
   "name": "python3"
  },
  "language_info": {
   "codemirror_mode": {
    "name": "ipython",
    "version": 3
   },
   "file_extension": ".py",
   "mimetype": "text/x-python",
   "name": "python",
   "nbconvert_exporter": "python",
   "pygments_lexer": "ipython3",
   "version": "3.10.9"
  }
 },
 "nbformat": 4,
 "nbformat_minor": 5
}
