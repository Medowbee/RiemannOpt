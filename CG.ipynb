{
 "cells": [
  {
   "cell_type": "markdown",
   "id": "4eea679c",
   "metadata": {},
   "source": [
    "# Example of Tucker Riemaniannian optimization "
   ]
  },
  {
   "cell_type": "code",
   "execution_count": 1,
   "id": "7b1c35b0",
   "metadata": {},
   "outputs": [],
   "source": [
    "# we have to set env variable to use propack, if we want to use sparse2tuck\n",
    "import os\n",
    "os.environ[\"SCIPY_USE_PROPACK\"] = \"1\"\n",
    "import torch\n",
    "import numpy as np\n",
    "import tucker_riemopt\n",
    "from tucker_riemopt import backend as back\n",
    "from tucker_riemopt import set_backend\n",
    "from tucker_riemopt.tucker.tucker import Tucker\n",
    "import tucker_riemopt.tucker.riemannian as riemann"
   ]
  },
  {
   "cell_type": "markdown",
   "id": "33ff97d0",
   "metadata": {},
   "source": [
    "###### Basic working tensors \n",
    "* $\\text{Omega_dense} \\approx I(0,1) $ is dense mask tensor \n",
    "* $\\text{Omega_tucker}$ is Tucker representation of mask tensor\n",
    "* $\\text{X_dense} \\approx R(0,1)$ is first target tensor approximation (dense tensor)\n",
    "* $\\text{X_tucker}$ is Tucker representation of first approximation\n",
    "\n",
    "###### Examples of target tensors\n",
    "* $\\text{Sin_dense}(i_1,\\ldots,i_d) = sin(i_1 + \\ldots + i_d)$ is 2-rank target tensor \n",
    "* $\\text{Sin_tucker}$ is Tucker representation of Sinus tensor\n",
    "* $\\text{Hilbert_dense}(i_1,\\ldots,i_d) = \\frac{1}{i_1 + \\ldots + i_d + d}$ is target tensor with exponentially decaying singular numbers\n",
    "* $\\text{Hilbert_tucker}$ is Tucker representation of Hilbert tensor"
   ]
  },
  {
   "cell_type": "code",
   "execution_count": 2,
   "id": "4af4261b",
   "metadata": {},
   "outputs": [],
   "source": [
    "#init tensors and mask\n",
    "size = 32\n",
    "set_backend(\"pytorch\")\n",
    "\n",
    "Sin_dense     = back.zeros([size,size,size])\n",
    "Hilbert_dense = back.zeros([size,size,size])\n",
    "Omega_dense   = back.zeros([size,size,size])\n",
    "X_dense       = back.zeros([size,size,size])\n",
    "\n",
    "for i in range(size):\n",
    "    for j in range(size):\n",
    "        for k in range(size):\n",
    "            Sin_dense[i][j][k]     = np.sin(i + j + k)\n",
    "            Hilbert_dense[i][j][k] = 1 / (i + j + k + 3)\n",
    "            Omega_dense[i][j][k]   = 1 if np.random.uniform() < 0.5 else 0\n",
    "            X_dense[i][j][k]       = np.random.uniform()\n",
    "\n",
    "Omega_tucker = Tucker.from_dense(Omega_dense)\n",
    "Sin_tucker   = Tucker.from_dense(Sin_dense)\n",
    "X_tucker     = Tucker.from_dense(X_dense)"
   ]
  },
  {
   "cell_type": "code",
   "execution_count": 3,
   "id": "fae334cc",
   "metadata": {},
   "outputs": [],
   "source": [
    "def Omega_projection(dense_tensor, Omega = Omega_dense):\n",
    "    #Projection onto known tensor elements, given by dense Omega tensor\n",
    "    #elementwise product\n",
    "    return dense_tensor * Omega\n",
    "\n",
    "def Tucker_Omega_projection(tucker_tensor, Omega = Omega_tucker):\n",
    "    #Projection tensor given by tucker-format onto known tensor elements, given by dense Omega tensor\n",
    "    #elementwise product in Tucker format\n",
    "    return Tucker.from_dense(Omega_projection(tucker_tensor.to_dense()))\n",
    "\n",
    "def Euclidean_grad(X, Target_tensor = Sin_tucker):\n",
    "    return Tucker_Omega_projection(Target_tensor) - Tucker_Omega_projection(X)\n",
    "\n",
    "def f(X, A = Sin_tucker):\n",
    "    return 1/2 * (Tucker_Omega_projection(A) - Tucker_Omega_projection(X)).norm() ** 2\n",
    "\n",
    "def line_search(eta, X):\n",
    "    proj_eta = Tucker_Omega_projection(eta)\n",
    "    return proj_eta.flat_inner(Euclidean_grad(X)) / (proj_eta.norm() ** 2)\n",
    "\n",
    "def retraction(X, xi, r):\n",
    "    return (X + xi).round([r, r, r])\n"
   ]
  },
  {
   "cell_type": "code",
   "execution_count": 4,
   "id": "1067ff0b",
   "metadata": {
    "scrolled": true
   },
   "outputs": [],
   "source": [
    "xi,fx    = riemann.grad(f, X_tucker)\n",
    "xi       = xi.construct()\n",
    "eta      = -xi\n",
    "alpha    = line_search(eta, X_tucker)\n",
    "X_tucker = retraction(X_tucker, alpha * eta, 2)"
   ]
  },
  {
   "cell_type": "code",
   "execution_count": 6,
   "id": "23cd4600",
   "metadata": {},
   "outputs": [
    {
     "name": "stdout",
     "output_type": "stream",
     "text": [
      "0.29128\n",
      "0.10191\n",
      "0.07427\n"
     ]
    }
   ],
   "source": [
    "max_iter = 150\n",
    "\n",
    "for k in range(max_iter):\n",
    "    betta = 1/(xi).norm()\n",
    "    xi,fx = riemann.grad(f, X_tucker)\n",
    "    xi = xi.construct()\n",
    "    betta *=(xi).norm()\n",
    "    eta   = -xi + betta*riemann.project(X_tucker, eta).construct()\n",
    "    alpha = line_search(eta, X_tucker)\n",
    "    X_tucker     = retraction(X_tucker, alpha*eta, 2)\n",
    "    eps = back.sqrt(2*fx) / Sin_tucker.norm()\n",
    "    \n",
    "    if k%50 ==0:\n",
    "        print(round(float(eps),5))\n",
    "    if eps <1e-2:\n",
    "        break"
   ]
  },
  {
   "cell_type": "code",
   "execution_count": 7,
   "id": "13476476",
   "metadata": {},
   "outputs": [
    {
     "name": "stdout",
     "output_type": "stream",
     "text": [
      "Relative error: ||A-X||/||A||  0.08632\n"
     ]
    }
   ],
   "source": [
    "print(\"Relative error: ||A-X||/||A|| \",round(float((Sin_dense - X_tucker.to_dense()).norm()/Sin_dense.norm()),5))"
   ]
  }
 ],
 "metadata": {
  "kernelspec": {
   "display_name": "Python 3 (ipykernel)",
   "language": "python",
   "name": "python3"
  },
  "language_info": {
   "codemirror_mode": {
    "name": "ipython",
    "version": 3
   },
   "file_extension": ".py",
   "mimetype": "text/x-python",
   "name": "python",
   "nbconvert_exporter": "python",
   "pygments_lexer": "ipython3",
   "version": "3.10.9"
  }
 },
 "nbformat": 4,
 "nbformat_minor": 5
}
