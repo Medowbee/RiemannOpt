{
 "cells": [
  {
   "cell_type": "code",
   "execution_count": 1,
   "id": "6c858322",
   "metadata": {},
   "outputs": [],
   "source": [
    "# we have to set env variable to use propack, if we want to use sparse2tuck\n",
    "import os\n",
    "os.environ[\"SCIPY_USE_PROPACK\"] = \"1\""
   ]
  },
  {
   "cell_type": "code",
   "execution_count": 2,
   "id": "7b1c35b0",
   "metadata": {},
   "outputs": [],
   "source": [
    "import scipy\n",
    "import numpy as np\n",
    "import matplotlib.pyplot as plt\n",
    "plt.rcParams[\"figure.figsize\"] = (8,8)\n",
    "import torch\n",
    "import tucker_riemopt\n",
    "from tucker_riemopt import backend as back\n",
    "from tucker_riemopt import set_backend\n",
    "from tucker_riemopt.tucker.tucker import Tucker\n",
    "import tucker_riemopt.tucker.riemannian as riemann"
   ]
  },
  {
   "cell_type": "code",
   "execution_count": 18,
   "id": "4af4261b",
   "metadata": {},
   "outputs": [],
   "source": [
    "#init tensor, mask and sparse tessor\n",
    "size = 32\n",
    "set_backend(\"pytorch\")\n",
    "A = back.zeros([size,size,size])\n",
    "for i in range(size):\n",
    "    for j in range(size):\n",
    "        for k in range(size):\n",
    "            A[i][j][k] = np.sin(i+j+k)\n",
    "            \n",
    "Omega = back.zeros([size,size,size])\n",
    "for i in range(size):\n",
    "    for j in range(size):\n",
    "        for k in range(size):\n",
    "            Omega[i][j][k] = 1 if np.random.uniform()<0.5 else 0\n",
    "X = back.zeros([size,size,size])\n",
    "for i in range(size):\n",
    "    for j in range(size):\n",
    "        for k in range(size):\n",
    "            X[i][j][k] = np.random.uniform()\n",
    "Asp = A*Omega #element wise multiplication"
   ]
  },
  {
   "cell_type": "code",
   "execution_count": 19,
   "id": "38da0e21",
   "metadata": {},
   "outputs": [],
   "source": [
    "Omega_tucker = Tucker.from_dense(Omega)\n",
    "T = Tucker.from_dense(A)\n",
    "X = Tucker.from_dense(X)"
   ]
  },
  {
   "cell_type": "code",
   "execution_count": 54,
   "id": "fae334cc",
   "metadata": {},
   "outputs": [],
   "source": [
    "def Omega_projection(dense_tensor, Omega = Omega):\n",
    "    return dense_tensor*Omega\n",
    "def Tucker_Omega_projection(tucker_tensor, Omega = Omega):\n",
    "    return Tucker.from_dense(Omega_projection(tucker_tensor.to_dense()))\n",
    "def Euclidean_grad(X,A=T):\n",
    "    return Tucker_Omega_projection(A) - Tucker_Omega_projection(X)\n",
    "def f(X,A=T):\n",
    "    return 1/2*(Tucker_Omega_projection(A) - Tucker_Omega_projection(X)).norm()**2\n",
    "def line_search(eta,X):\n",
    "    proj_eta = Tucker_Omega_projection(eta)\n",
    "    return proj_eta.flat_inner(Euclidean_grad(X))/(proj_eta.norm()**2)\n",
    "def retraction(X,xi,r):\n",
    "    return (X+xi).round([r,r,r])\n",
    "    \n",
    "# def Riemannian_grad(Grad, X):\n",
    "#     tucker_riemopt.tucker.riemannian"
   ]
  },
  {
   "cell_type": "code",
   "execution_count": 64,
   "id": "1067ff0b",
   "metadata": {
    "scrolled": true
   },
   "outputs": [],
   "source": [
    "xi = riemann.grad(f, X)\n",
    "eta = -xi[0].construct()\n",
    "alpha = line_search(eta,X)\n",
    "X =retraction(X, alpha*eta, 2)"
   ]
  },
  {
   "cell_type": "code",
   "execution_count": 103,
   "id": "23cd4600",
   "metadata": {},
   "outputs": [
    {
     "name": "stdout",
     "output_type": "stream",
     "text": [
      "tensor(0.0577, grad_fn=<DivBackward0>)\n",
      "tensor(0.0558, grad_fn=<DivBackward0>)\n",
      "tensor(0.0542, grad_fn=<DivBackward0>)\n",
      "tensor(0.0527, grad_fn=<DivBackward0>)\n",
      "tensor(0.0515, grad_fn=<DivBackward0>)\n",
      "tensor(0.0504, grad_fn=<DivBackward0>)\n",
      "tensor(0.0493, grad_fn=<DivBackward0>)\n",
      "tensor(0.0484, grad_fn=<DivBackward0>)\n",
      "tensor(0.0476, grad_fn=<DivBackward0>)\n",
      "tensor(0.0468, grad_fn=<DivBackward0>)\n",
      "tensor(0.0461, grad_fn=<DivBackward0>)\n",
      "tensor(0.0454, grad_fn=<DivBackward0>)\n",
      "tensor(0.0448, grad_fn=<DivBackward0>)\n",
      "tensor(0.0443, grad_fn=<DivBackward0>)\n",
      "tensor(0.0437, grad_fn=<DivBackward0>)\n",
      "tensor(0.0432, grad_fn=<DivBackward0>)\n",
      "tensor(0.0427, grad_fn=<DivBackward0>)\n",
      "tensor(0.0423, grad_fn=<DivBackward0>)\n",
      "tensor(0.0418, grad_fn=<DivBackward0>)\n",
      "tensor(0.0414, grad_fn=<DivBackward0>)\n"
     ]
    }
   ],
   "source": [
    "max_iter = 1000\n",
    "for k in range(max_iter):\n",
    "    xi = riemann.grad(f, X)\n",
    "    eta = -xi[0].construct() + riemann.project(X, eta).construct()\n",
    "    alpha = line_search(eta,X)\n",
    "    X =retraction(X, alpha*eta, 2)\n",
    "    eps = back.sqrt(2*xi[1])/T.norm()\n",
    "    if k%50 ==0:\n",
    "        print(eps)\n",
    "    if eps <1e-3:\n",
    "        break"
   ]
  }
 ],
 "metadata": {
  "kernelspec": {
   "display_name": "Python 3 (ipykernel)",
   "language": "python",
   "name": "python3"
  },
  "language_info": {
   "codemirror_mode": {
    "name": "ipython",
    "version": 3
   },
   "file_extension": ".py",
   "mimetype": "text/x-python",
   "name": "python",
   "nbconvert_exporter": "python",
   "pygments_lexer": "ipython3",
   "version": "3.10.9"
  }
 },
 "nbformat": 4,
 "nbformat_minor": 5
}
