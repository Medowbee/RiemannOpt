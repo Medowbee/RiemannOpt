{
 "cells": [
  {
   "cell_type": "markdown",
   "id": "4eea679c",
   "metadata": {},
   "source": [
    "# Example of Tucker Riemaniannian optimization "
   ]
  },
  {
   "cell_type": "code",
   "execution_count": 1,
   "id": "7b1c35b0",
   "metadata": {},
   "outputs": [],
   "source": [
    "# we have to set env variable to use propack, if we want to use sparse2tuck\n",
    "import os\n",
    "os.environ[\"SCIPY_USE_PROPACK\"] = \"1\"\n",
    "import torch\n",
    "import numpy as np\n",
    "import tucker_riemopt\n",
    "from tucker_riemopt import backend as back\n",
    "from tucker_riemopt import set_backend\n",
    "from tucker_riemopt.tucker.tucker import Tucker\n",
    "import tucker_riemopt.tucker.riemannian as riemann"
   ]
  },
  {
   "cell_type": "markdown",
   "id": "33ff97d0",
   "metadata": {},
   "source": [
    "###### Basic working tensors \n",
    "* $\\text{Omega_dense} \\approx I(0,1) $ is dense mask tensor \n",
    "* $\\text{Omega_tucker}$ is Tucker representation of mask tensor\n",
    "* $\\text{X_dense} \\approx R(0,1)$ is first target tensor approximation (dense tensor)\n",
    "* $\\text{X_tucker}$ is Tucker representation of first approximation\n",
    "\n",
    "###### Examples of target tensors\n",
    "* $\\text{Sin_dense}(i_1,\\ldots,i_d) = sin(i_1 + \\ldots + i_d)$ is 2-rank target tensor \n",
    "* $\\text{Sin_tucker}$ is Tucker representation of Sinus tensor\n",
    "* $\\text{Hilbert_dense}(i_1,\\ldots,i_d) = \\frac{1}{i_1 + \\ldots + i_d + d}$ is target tensor with exponentially decaying singular numbers\n",
    "* $\\text{Hilbert_tucker}$ is Tucker representation of Hilbert tensor"
   ]
  },
  {
   "cell_type": "code",
   "execution_count": 35,
   "id": "4af4261b",
   "metadata": {},
   "outputs": [],
   "source": [
    "#init tensors and mask\n",
    "size = 128\n",
    "set_backend(\"pytorch\")\n",
    "\n",
    "Sin_dense     = back.zeros([size,size,size])\n",
    "# Hilbert_dense = back.zeros([size,size,size])\n",
    "Omega_dense   = back.zeros([size,size,size])\n",
    "X_dense       = back.zeros([size,size,size])\n",
    "\n",
    "for i in range(size):\n",
    "    for j in range(size):\n",
    "        for k in range(size):\n",
    "            Sin_dense[i][j][k]     = np.sin(i + j + k)\n",
    "#             Hilbert_dense[i][j][k] = 1 / (i + j + k + 3)\n",
    "            Omega_dense[i][j][k]   = 1 if np.random.uniform() < 0.01 else 0\n",
    "            X_dense[i][j][k]       = np.random.uniform()\n",
    "\n",
    "Omega_tucker = Tucker.from_dense(Omega_dense)\n",
    "Sin_tucker   = Tucker.from_dense(Sin_dense)\n",
    "X_tucker     = Tucker.from_dense(X_dense)"
   ]
  },
  {
   "cell_type": "code",
   "execution_count": 3,
   "id": "fae334cc",
   "metadata": {},
   "outputs": [],
   "source": [
    "def Omega_projection(dense_tensor, Omega = Omega_dense):\n",
    "    #Projection onto known tensor elements, given by dense Omega tensor\n",
    "    #elementwise product\n",
    "    return dense_tensor * Omega\n",
    "\n",
    "def Tucker_Omega_projection(tucker_tensor, Omega = Omega_tucker):\n",
    "    #Projection tensor given by tucker-format onto known tensor elements, given by dense Omega tensor\n",
    "    #elementwise product in Tucker format\n",
    "    return Tucker.from_dense(Omega_projection(tucker_tensor.to_dense()))\n",
    "\n",
    "def Euclidean_grad(X, Target_tensor = Sin_tucker):\n",
    "    return Tucker_Omega_projection(Target_tensor) - Tucker_Omega_projection(X)\n",
    "\n",
    "def f(X, A = Sin_tucker):\n",
    "    return 1/2 * (Tucker_Omega_projection(A) - Tucker_Omega_projection(X)).norm() ** 2\n",
    "\n",
    "def line_search(eta, X):\n",
    "    proj_eta = Tucker_Omega_projection(eta)\n",
    "    return proj_eta.flat_inner(Euclidean_grad(X)) / (proj_eta.norm() ** 2)\n",
    "\n",
    "def retraction(X, xi, r):\n",
    "    return (X + xi).round([r, r, r])\n"
   ]
  },
  {
   "cell_type": "code",
   "execution_count": 4,
   "id": "1067ff0b",
   "metadata": {
    "scrolled": true
   },
   "outputs": [],
   "source": [
    "xi,fx    = riemann.grad(f, X_tucker)\n",
    "xi       = xi.construct()\n",
    "eta      = -xi\n",
    "alpha    = line_search(eta, X_tucker)\n",
    "X_tucker = retraction(X_tucker, alpha * eta, 2)"
   ]
  },
  {
   "cell_type": "code",
   "execution_count": 173,
   "id": "a1fd3ef0",
   "metadata": {},
   "outputs": [
    {
     "data": {
      "text/plain": [
       "<property at 0x1241acf40>"
      ]
     },
     "execution_count": 173,
     "metadata": {},
     "output_type": "execute_result"
    }
   ],
   "source": [
    "Tucker()"
   ]
  },
  {
   "cell_type": "code",
   "execution_count": 5,
   "id": "23cd4600",
   "metadata": {},
   "outputs": [
    {
     "name": "stdout",
     "output_type": "stream",
     "text": [
      "0.72203\n",
      "0.08397\n",
      "0.05961\n"
     ]
    }
   ],
   "source": [
    "max_iter = 150\n",
    "\n",
    "for k in range(max_iter):\n",
    "    betta = 1/(xi).norm()\n",
    "    xi,fx = riemann.grad(f, X_tucker)\n",
    "    xi = xi.construct()\n",
    "    betta *=(xi).norm()\n",
    "    eta   = -xi + betta*riemann.project(X_tucker, eta).construct()\n",
    "    alpha = line_search(eta, X_tucker)\n",
    "    X_tucker     = retraction(X_tucker, alpha*eta, 2)\n",
    "    eps = back.sqrt(2*fx) / Sin_tucker.norm()\n",
    "    \n",
    "    if k%50 ==0:\n",
    "        print(round(float(eps),5))\n",
    "    if eps <1e-2:\n",
    "        break"
   ]
  },
  {
   "cell_type": "code",
   "execution_count": 6,
   "id": "13476476",
   "metadata": {},
   "outputs": [
    {
     "name": "stdout",
     "output_type": "stream",
     "text": [
      "Relative error: ||A-X||/||A||  0.06931\n"
     ]
    }
   ],
   "source": [
    "print(\"Relative error: ||A-X||/||A|| \",round(float((Sin_dense - X_tucker.to_dense()).norm()/Sin_dense.norm()),5))"
   ]
  },
  {
   "cell_type": "markdown",
   "id": "de053bcc",
   "metadata": {},
   "source": [
    "## applied projection to each rank "
   ]
  },
  {
   "cell_type": "code",
   "execution_count": 36,
   "id": "ef2a49dd",
   "metadata": {},
   "outputs": [],
   "source": [
    "def get_triplet(core,v1,v2,v3, r1,r2,r3,Omega):\n",
    "    return core[r1][r2][r3]*back.einsum(\"ijk,i,j,k->ijk\",Omega, v1[:,r1],v2[:,r2],v3[:,r3])\n",
    "def proj(tucker_tensor,R1,R2,R3, Omega=Omega_dense):\n",
    "    res = back.zeros(tucker_tensor.shape)\n",
    "    for r1 in range(R1):\n",
    "        for r2 in range(R2):\n",
    "            for r3 in range(R3):\n",
    "                res += get_triplet(tucker_tensor.core,*tucker_tensor.factors, r1, r2, r3, Omega_dense)\n",
    "    return Tucker.from_dense(res)"
   ]
  },
  {
   "cell_type": "code",
   "execution_count": 44,
   "id": "4b676c94",
   "metadata": {},
   "outputs": [
    {
     "name": "stdout",
     "output_type": "stream",
     "text": [
      "CPU times: user 6.17 s, sys: 1.06 s, total: 7.23 s\n",
      "Wall time: 975 ms\n"
     ]
    }
   ],
   "source": [
    "%time _=Tucker_Omega_projection(Sin_tucker)"
   ]
  },
  {
   "cell_type": "code",
   "execution_count": 45,
   "id": "67c43964",
   "metadata": {},
   "outputs": [
    {
     "name": "stdout",
     "output_type": "stream",
     "text": [
      "CPU times: user 6.91 s, sys: 1.76 s, total: 8.67 s\n",
      "Wall time: 1.2 s\n"
     ]
    }
   ],
   "source": [
    "%time _=proj(Sin_tucker,2,2,2)"
   ]
  },
  {
   "cell_type": "markdown",
   "id": "82e688f9",
   "metadata": {},
   "source": [
    "## Create list of sparse matrix"
   ]
  },
  {
   "cell_type": "code",
   "execution_count": 208,
   "id": "a577e585",
   "metadata": {},
   "outputs": [],
   "source": [
    "#Tried to use sparseTensor, but get bad results\n",
    "three = []\n",
    "size = 128\n",
    "nnz = 300\n",
    "Omega =back.zeros([size,size,size],dtype=int)\n",
    "for i in range(nnz):\n",
    "    three.append(tuple(np.random.randint(0, size,(3))))\n",
    "    Omega[three[-1][0]][three[-1][1]][three[-1][2]]=1"
   ]
  },
  {
   "cell_type": "code",
   "execution_count": 209,
   "id": "cf3f79cf",
   "metadata": {},
   "outputs": [],
   "source": [
    "def sp_pr(Sin_dense, three):    \n",
    "    ZERO = back.zeros(Sin_dense.shape)\n",
    "    vals = []\n",
    "    for ind in three:\n",
    "        ZERO[ind[0]][ind[1]][ind[2]] = Sin_dense[ind[0]][ind[1]][ind[2]]\n",
    "        vals.append(Sin_dense[ind[0]][ind[1]][ind[2]])\n",
    "    return ZERO, vals"
   ]
  },
  {
   "cell_type": "code",
   "execution_count": 270,
   "id": "1fe42b49",
   "metadata": {},
   "outputs": [],
   "source": [
    "def q(three,sparse_dense):\n",
    "#     sparse_tensor = tucker_riemopt.SparseTensor([128,128,128],np.array(three).T,vals)\n",
    "    sparse_tensor = tucker_riemopt.SparseTensor.dense2sparse(sparse_dense)\n",
    "    r=Tucker.sparse2tuck(sparse_tensor,[128,128,128])\n",
    "    return r"
   ]
  },
  {
   "cell_type": "code",
   "execution_count": 271,
   "id": "8042e8d7",
   "metadata": {},
   "outputs": [],
   "source": [
    "sparse_dense, vals=sp_pr(Sin_dense, three)"
   ]
  },
  {
   "cell_type": "code",
   "execution_count": 272,
   "id": "6a39d647",
   "metadata": {},
   "outputs": [
    {
     "name": "stdout",
     "output_type": "stream",
     "text": [
      "CPU times: user 1min 7s, sys: 10.7 s, total: 1min 18s\n",
      "Wall time: 19.3 s\n"
     ]
    }
   ],
   "source": [
    "%time tensor = q(three,sparse_dense)"
   ]
  },
  {
   "cell_type": "code",
   "execution_count": 273,
   "id": "92d3ef9b",
   "metadata": {
    "scrolled": false
   },
   "outputs": [
    {
     "data": {
      "text/plain": [
       "1.913583e-05"
      ]
     },
     "execution_count": 273,
     "metadata": {},
     "output_type": "execute_result"
    }
   ],
   "source": [
    "np.linalg.norm(tensor.to_dense() - sparse_dense)"
   ]
  },
  {
   "cell_type": "code",
   "execution_count": 274,
   "id": "86365afa",
   "metadata": {},
   "outputs": [
    {
     "data": {
      "text/plain": [
       "12.420635"
      ]
     },
     "execution_count": 274,
     "metadata": {},
     "output_type": "execute_result"
    }
   ],
   "source": [
    "np.linalg.norm(sparse_dense)"
   ]
  },
  {
   "cell_type": "code",
   "execution_count": 164,
   "id": "b9d732c9",
   "metadata": {},
   "outputs": [],
   "source": [
    "#made just for fun\n",
    "def hadamard_product(t1,t2):\n",
    "    core = back.kron(t1.core, t2.core)\n",
    "    factor0 = back.khatri_rao([t1.factors[0], t2.factors[0]]).T\n",
    "    factor1 = back.khatri_rao([t1.factors[1], t2.factors[1]]).T\n",
    "    factor2 = back.khatri_rao([t1.factors[2], t2.factors[2]]).T\n",
    "    return Tucker(core, [factor0,factor1,factor2])"
   ]
  }
 ],
 "metadata": {
  "kernelspec": {
   "display_name": "Python 3 (ipykernel)",
   "language": "python",
   "name": "python3"
  },
  "language_info": {
   "codemirror_mode": {
    "name": "ipython",
    "version": 3
   },
   "file_extension": ".py",
   "mimetype": "text/x-python",
   "name": "python",
   "nbconvert_exporter": "python",
   "pygments_lexer": "ipython3",
   "version": "3.10.9"
  }
 },
 "nbformat": 4,
 "nbformat_minor": 5
}
