{
 "cells": [
  {
   "cell_type": "markdown",
   "id": "4eea679c",
   "metadata": {},
   "source": [
    "# Example of Tucker Riemaniannian optimization "
   ]
  },
  {
   "cell_type": "code",
   "execution_count": 2,
   "id": "7b1c35b0",
   "metadata": {},
   "outputs": [],
   "source": [
    "# we have to set env variable to use propack, if we want to use sparse2tuck\n",
    "import os\n",
    "os.environ[\"SCIPY_USE_PROPACK\"] = \"1\"\n",
    "import torch\n",
    "import numpy as np\n",
    "import tucker_riemopt\n",
    "from tucker_riemopt import backend as back\n",
    "from tucker_riemopt import set_backend\n",
    "from tucker_riemopt.tucker.tucker import Tucker\n",
    "import tucker_riemopt.tucker.riemannian as riemann"
   ]
  },
  {
   "cell_type": "markdown",
   "id": "33ff97d0",
   "metadata": {},
   "source": [
    "###### Basic working tensors \n",
    "* $\\text{Omega_dense} \\approx R(0,1) $ is dense mask tensor \n",
    "* $\\text{Omega_tucker}$ is Tucker representation of mask tensor\n",
    "* $\\text{X_dense} \\approx R(0,1)$ is first target tensor approximation (dense tensor)\n",
    "* $\\text{X_tucker}$ is Tucker representation of first approximation\n",
    "\n",
    "###### Examples of target tensors\n",
    "* $\\text{Sin_dense}(i_1,\\ldots,i_d) = sin(i_1 + \\ldots + i_d)$ is 2-rank target tensor \n",
    "* $\\text{Sin_tucker}$ is Tucker representation of Sinus tensor\n",
    "* $\\text{Hilbert_dense}(i_1,\\ldots,i_d) = \\frac{1}{i_1 + \\ldots + i_d + d}$ is target tensor with exponentially decaying singular numbers\n",
    "* $\\text{Hilbert_tucker}$ is Tucker representation of Hilbert tensor"
   ]
  },
  {
   "cell_type": "code",
   "execution_count": 5,
   "id": "4af4261b",
   "metadata": {},
   "outputs": [],
   "source": [
    "#init tensors and mask\n",
    "size = 32\n",
    "set_backend(\"pytorch\")\n",
    "\n",
    "Sin_dense     = back.zeros([size,size,size])\n",
    "Hilbert_dense = back.zeros([size,size,size])\n",
    "Omega_dense   = back.zeros([size,size,size])\n",
    "X_dense       = back.zeros([size,size,size])\n",
    "\n",
    "for i in range(size):\n",
    "    for j in range(size):\n",
    "        for k in range(size):\n",
    "            Sin_dense[i][j][k]     = np.sin(i + j + k)\n",
    "            Hilbert_dense[i][j][k] = 1 / (i + j + k + 3)\n",
    "            Omega_dense[i][j][k]   = 1 if np.random.uniform() < 0.5 else 0\n",
    "            X_dense[i][j][k]       = np.random.uniform()\n",
    "\n",
    "Omega_tucker = Tucker.from_dense(Omega_dense)\n",
    "Sin_tucker   = Tucker.from_dense(Sin_dense)\n",
    "X_tucker     = Tucker.from_dense(X_dense)"
   ]
  },
  {
   "cell_type": "code",
   "execution_count": 14,
   "id": "fae334cc",
   "metadata": {},
   "outputs": [],
   "source": [
    "def Omega_projection(dense_tensor, Omega = Omega_dense):\n",
    "    #Projection onto known tensor elements, given by dense Omega tensor\n",
    "    #elementwise product\n",
    "    return dense_tensor * Omega\n",
    "\n",
    "def Tucker_Omega_projection(tucker_tensor, Omega = Omega_tucker):\n",
    "    #Projection tensor given by tucker-format onto known tensor elements, given by dense Omega tensor\n",
    "    #elementwise product in Tucker format\n",
    "    return Tucker.from_dense(Omega_projection(tucker_tensor.to_dense()))\n",
    "\n",
    "def Euclidean_grad(X, Target_tensor = Sin_tucker):\n",
    "    return Tucker_Omega_projection(Target_tensor) - Tucker_Omega_projection(X)\n",
    "\n",
    "def f(X, A = Sin_tucker):\n",
    "    return 1/2 * (Tucker_Omega_projection(A) - Tucker_Omega_projection(X)).norm() ** 2\n",
    "\n",
    "def line_search(eta, X):\n",
    "    proj_eta = Tucker_Omega_projection(eta)\n",
    "    return proj_eta.flat_inner(Euclidean_grad(X)) / (proj_eta.norm() ** 2)\n",
    "\n",
    "def retraction(X, xi, r):\n",
    "    return (X + xi).round([r, r, r])\n",
    "    \n",
    "# def Riemannian_grad(Grad, X):\n",
    "#     tucker_riemopt.tucker.riemannian"
   ]
  },
  {
   "cell_type": "code",
   "execution_count": 15,
   "id": "1067ff0b",
   "metadata": {
    "scrolled": true
   },
   "outputs": [],
   "source": [
    "xi       = riemann.grad(f, X_tucker)\n",
    "eta      = -xi[0].construct()\n",
    "alpha    = line_search(eta, X_tucker)\n",
    "X_tucker = retraction(X_tucker, alpha * eta, 2)"
   ]
  },
  {
   "cell_type": "code",
   "execution_count": 16,
   "id": "23cd4600",
   "metadata": {},
   "outputs": [
    {
     "name": "stdout",
     "output_type": "stream",
     "text": [
      "tensor(0.0059, grad_fn=<DivBackward0>)\n",
      "tensor(0.0052, grad_fn=<DivBackward0>)\n",
      "tensor(0.0048, grad_fn=<DivBackward0>)\n"
     ]
    },
    {
     "ename": "KeyboardInterrupt",
     "evalue": "",
     "output_type": "error",
     "traceback": [
      "\u001b[0;31m---------------------------------------------------------------------------\u001b[0m",
      "\u001b[0;31mKeyboardInterrupt\u001b[0m                         Traceback (most recent call last)",
      "Cell \u001b[0;32mIn[16], line 8\u001b[0m\n\u001b[1;32m      6\u001b[0m alpha \u001b[38;5;241m=\u001b[39m line_search(eta, X_tucker)\n\u001b[1;32m      7\u001b[0m X_tucker     \u001b[38;5;241m=\u001b[39m retraction(X_tucker, alpha\u001b[38;5;241m*\u001b[39meta, \u001b[38;5;241m2\u001b[39m)\n\u001b[0;32m----> 8\u001b[0m eps \u001b[38;5;241m=\u001b[39m back\u001b[38;5;241m.\u001b[39msqrt(\u001b[38;5;241m2\u001b[39m\u001b[38;5;241m*\u001b[39mxi[\u001b[38;5;241m1\u001b[39m]) \u001b[38;5;241m/\u001b[39m \u001b[43mSin_tucker\u001b[49m\u001b[38;5;241;43m.\u001b[39;49m\u001b[43mnorm\u001b[49m\u001b[43m(\u001b[49m\u001b[43m)\u001b[49m\n\u001b[1;32m     10\u001b[0m \u001b[38;5;28;01mif\u001b[39;00m k\u001b[38;5;241m%\u001b[39m\u001b[38;5;241m50\u001b[39m \u001b[38;5;241m==\u001b[39m\u001b[38;5;241m0\u001b[39m:\n\u001b[1;32m     11\u001b[0m     \u001b[38;5;28mprint\u001b[39m(eps)\n",
      "File \u001b[0;32m~/Documents/Matrix-Tensors/Optimization/RiemannOpt/tucker_riemopt/tucker/tucker.py:318\u001b[0m, in \u001b[0;36mTucker.norm\u001b[0;34m(self, qr_based)\u001b[0m\n\u001b[1;32m    315\u001b[0m     new_tensor \u001b[38;5;241m=\u001b[39m new_tensor\u001b[38;5;241m.\u001b[39mto_dense()\n\u001b[1;32m    316\u001b[0m     \u001b[38;5;28;01mreturn\u001b[39;00m back\u001b[38;5;241m.\u001b[39mnorm(new_tensor)\n\u001b[0;32m--> 318\u001b[0m \u001b[38;5;28;01mreturn\u001b[39;00m back\u001b[38;5;241m.\u001b[39msqrt(\u001b[38;5;28;43mself\u001b[39;49m\u001b[38;5;241;43m.\u001b[39;49m\u001b[43mflat_inner\u001b[49m\u001b[43m(\u001b[49m\u001b[38;5;28;43mself\u001b[39;49m\u001b[43m)\u001b[49m)\n",
      "File \u001b[0;32m~/Documents/Matrix-Tensors/Optimization/RiemannOpt/tucker_riemopt/tucker/tucker.py:288\u001b[0m, in \u001b[0;36mTucker.flat_inner\u001b[0;34m(self, other)\u001b[0m\n\u001b[1;32m    285\u001b[0m     intermediate_core_letters\u001b[38;5;241m.\u001b[39mappend(rev_letters[i])\n\u001b[1;32m    287\u001b[0m source \u001b[38;5;241m=\u001b[39m \u001b[38;5;124m\"\u001b[39m\u001b[38;5;124m,\u001b[39m\u001b[38;5;124m\"\u001b[39m\u001b[38;5;241m.\u001b[39mjoin([core_letters] \u001b[38;5;241m+\u001b[39m factors_letters \u001b[38;5;241m+\u001b[39m transposed_letters)\n\u001b[0;32m--> 288\u001b[0m intermediate_core \u001b[38;5;241m=\u001b[39m \u001b[43mback\u001b[49m\u001b[38;5;241;43m.\u001b[39;49m\u001b[43meinsum\u001b[49m\u001b[43m(\u001b[49m\u001b[43msource\u001b[49m\u001b[43m \u001b[49m\u001b[38;5;241;43m+\u001b[39;49m\u001b[43m \u001b[49m\u001b[38;5;124;43m\"\u001b[39;49m\u001b[38;5;124;43m->\u001b[39;49m\u001b[38;5;124;43m\"\u001b[39;49m\u001b[43m \u001b[49m\u001b[38;5;241;43m+\u001b[39;49m\u001b[43m \u001b[49m\u001b[38;5;124;43m\"\u001b[39;49m\u001b[38;5;124;43m\"\u001b[39;49m\u001b[38;5;241;43m.\u001b[39;49m\u001b[43mjoin\u001b[49m\u001b[43m(\u001b[49m\u001b[43mintermediate_core_letters\u001b[49m\u001b[43m)\u001b[49m\u001b[43m,\u001b[49m\n\u001b[1;32m    289\u001b[0m \u001b[43m                                \u001b[49m\u001b[38;5;28;43mself\u001b[39;49m\u001b[38;5;241;43m.\u001b[39;49m\u001b[43mcore\u001b[49m\u001b[43m,\u001b[49m\u001b[43m \u001b[49m\u001b[38;5;241;43m*\u001b[39;49m\u001b[38;5;28;43mself\u001b[39;49m\u001b[38;5;241;43m.\u001b[39;49m\u001b[43mfactors\u001b[49m\u001b[43m,\u001b[49m\u001b[43m \u001b[49m\u001b[38;5;241;43m*\u001b[39;49m\u001b[43mother\u001b[49m\u001b[38;5;241;43m.\u001b[39;49m\u001b[43mfactors\u001b[49m\u001b[43m)\u001b[49m\n\u001b[1;32m    290\u001b[0m \u001b[38;5;28;01mreturn\u001b[39;00m (intermediate_core \u001b[38;5;241m*\u001b[39m other\u001b[38;5;241m.\u001b[39mcore)\u001b[38;5;241m.\u001b[39msum()\n",
      "File \u001b[0;32m~/Documents/Matrix-Tensors/Optimization/RiemannOpt/tucker_riemopt/backend/__init__.py:96\u001b[0m, in \u001b[0;36mBackendManager.dispatch_backend_method.<locals>.wrapped_backend_method\u001b[0;34m(*args, **kwargs)\u001b[0m\n\u001b[1;32m     95\u001b[0m \u001b[38;5;28;01mdef\u001b[39;00m \u001b[38;5;21mwrapped_backend_method\u001b[39m(\u001b[38;5;241m*\u001b[39margs, \u001b[38;5;241m*\u001b[39m\u001b[38;5;241m*\u001b[39mkwargs):\n\u001b[0;32m---> 96\u001b[0m     \u001b[38;5;28;01mreturn\u001b[39;00m \u001b[38;5;28;43mgetattr\u001b[39;49m\u001b[43m(\u001b[49m\u001b[38;5;28;43mcls\u001b[39;49m\u001b[38;5;241;43m.\u001b[39;49m\u001b[43m_THREAD_LOCAL_DATA\u001b[49m\u001b[38;5;241;43m.\u001b[39;49m\u001b[38;5;18;43m__dict__\u001b[39;49m\u001b[38;5;241;43m.\u001b[39;49m\u001b[43mget\u001b[49m\u001b[43m(\u001b[49m\u001b[38;5;124;43m\"\u001b[39;49m\u001b[38;5;124;43mbackend\u001b[39;49m\u001b[38;5;124;43m\"\u001b[39;49m\u001b[43m,\u001b[49m\u001b[43m \u001b[49m\u001b[38;5;28;43mcls\u001b[39;49m\u001b[38;5;241;43m.\u001b[39;49m\u001b[43m_backend\u001b[49m\u001b[43m)\u001b[49m\u001b[43m,\u001b[49m\u001b[43m \u001b[49m\u001b[43mname\u001b[49m\u001b[43m)\u001b[49m\u001b[43m(\u001b[49m\u001b[38;5;241;43m*\u001b[39;49m\u001b[43margs\u001b[49m\u001b[43m,\u001b[49m\u001b[43m \u001b[49m\u001b[38;5;241;43m*\u001b[39;49m\u001b[38;5;241;43m*\u001b[39;49m\u001b[43mkwargs\u001b[49m\u001b[43m)\u001b[49m\n",
      "File \u001b[0;32m~/Documents/Matrix-Tensors/Optimization/RiemannOpt/tucker_riemopt/backend/pytorch_backend.py:310\u001b[0m, in \u001b[0;36mPyTorchBackend.einsum\u001b[0;34m(subscripts, *operands)\u001b[0m\n\u001b[1;32m    308\u001b[0m \u001b[38;5;129m@staticmethod\u001b[39m\n\u001b[1;32m    309\u001b[0m \u001b[38;5;28;01mdef\u001b[39;00m \u001b[38;5;21meinsum\u001b[39m(subscripts, \u001b[38;5;241m*\u001b[39moperands):\n\u001b[0;32m--> 310\u001b[0m     \u001b[38;5;28;01mreturn\u001b[39;00m \u001b[43mcontract\u001b[49m\u001b[43m(\u001b[49m\u001b[43msubscripts\u001b[49m\u001b[43m,\u001b[49m\u001b[43m \u001b[49m\u001b[38;5;241;43m*\u001b[39;49m\u001b[43moperands\u001b[49m\u001b[43m,\u001b[49m\u001b[43m \u001b[49m\u001b[43mbackend\u001b[49m\u001b[38;5;241;43m=\u001b[39;49m\u001b[38;5;124;43m\"\u001b[39;49m\u001b[38;5;124;43mtorch\u001b[39;49m\u001b[38;5;124;43m\"\u001b[39;49m\u001b[43m)\u001b[49m\n",
      "File \u001b[0;32m~/miniconda3/miniconda3/lib/python3.10/site-packages/opt_einsum/contract.py:497\u001b[0m, in \u001b[0;36mcontract\u001b[0;34m(*operands, **kwargs)\u001b[0m\n\u001b[1;32m    494\u001b[0m     full_str \u001b[38;5;241m=\u001b[39m operands[\u001b[38;5;241m0\u001b[39m]\n\u001b[1;32m    496\u001b[0m \u001b[38;5;66;03m# Build the contraction list and operand\u001b[39;00m\n\u001b[0;32m--> 497\u001b[0m operands, contraction_list \u001b[38;5;241m=\u001b[39m \u001b[43mcontract_path\u001b[49m\u001b[43m(\u001b[49m\u001b[38;5;241;43m*\u001b[39;49m\u001b[43moperands\u001b[49m\u001b[43m,\u001b[49m\n\u001b[1;32m    498\u001b[0m \u001b[43m                                           \u001b[49m\u001b[43moptimize\u001b[49m\u001b[38;5;241;43m=\u001b[39;49m\u001b[43moptimize_arg\u001b[49m\u001b[43m,\u001b[49m\n\u001b[1;32m    499\u001b[0m \u001b[43m                                           \u001b[49m\u001b[43mmemory_limit\u001b[49m\u001b[38;5;241;43m=\u001b[39;49m\u001b[43mmemory_limit\u001b[49m\u001b[43m,\u001b[49m\n\u001b[1;32m    500\u001b[0m \u001b[43m                                           \u001b[49m\u001b[43meinsum_call\u001b[49m\u001b[38;5;241;43m=\u001b[39;49m\u001b[38;5;28;43;01mTrue\u001b[39;49;00m\u001b[43m,\u001b[49m\n\u001b[1;32m    501\u001b[0m \u001b[43m                                           \u001b[49m\u001b[43muse_blas\u001b[49m\u001b[38;5;241;43m=\u001b[39;49m\u001b[43muse_blas\u001b[49m\u001b[43m)\u001b[49m\n\u001b[1;32m    503\u001b[0m \u001b[38;5;66;03m# check if performing contraction or just building expression\u001b[39;00m\n\u001b[1;32m    504\u001b[0m \u001b[38;5;28;01mif\u001b[39;00m gen_expression:\n",
      "File \u001b[0;32m~/miniconda3/miniconda3/lib/python3.10/site-packages/opt_einsum/contract.py:298\u001b[0m, in \u001b[0;36mcontract_path\u001b[0;34m(*operands, **kwargs)\u001b[0m\n\u001b[1;32m    295\u001b[0m     do_blas \u001b[38;5;241m=\u001b[39m \u001b[38;5;28;01mFalse\u001b[39;00m\n\u001b[1;32m    297\u001b[0m \u001b[38;5;66;03m# Last contraction\u001b[39;00m\n\u001b[0;32m--> 298\u001b[0m \u001b[38;5;28;01mif\u001b[39;00m (cnum \u001b[38;5;241m-\u001b[39m \u001b[38;5;28;43mlen\u001b[39;49m\u001b[43m(\u001b[49m\u001b[43mpath\u001b[49m\u001b[43m)\u001b[49m) \u001b[38;5;241m==\u001b[39m \u001b[38;5;241m-\u001b[39m\u001b[38;5;241m1\u001b[39m:\n\u001b[1;32m    299\u001b[0m     idx_result \u001b[38;5;241m=\u001b[39m output_subscript\n\u001b[1;32m    300\u001b[0m \u001b[38;5;28;01melse\u001b[39;00m:\n\u001b[1;32m    301\u001b[0m     \u001b[38;5;66;03m# use tensordot order to minimize transpositions\u001b[39;00m\n",
      "\u001b[0;31mKeyboardInterrupt\u001b[0m: "
     ]
    }
   ],
   "source": [
    "max_iter = 1000\n",
    "\n",
    "for k in range(max_iter):\n",
    "    xi    = riemann.grad(f, X_tucker)\n",
    "    eta   = -xi[0].construct() + riemann.project(X_tucker, eta).construct()\n",
    "    alpha = line_search(eta, X_tucker)\n",
    "    X_tucker     = retraction(X_tucker, alpha*eta, 2)\n",
    "    eps = back.sqrt(2*xi[1]) / Sin_tucker.norm()\n",
    "    \n",
    "    if k%50 ==0:\n",
    "        print(eps)\n",
    "    if eps <1e-3:\n",
    "        break"
   ]
  },
  {
   "cell_type": "code",
   "execution_count": null,
   "id": "13476476",
   "metadata": {},
   "outputs": [],
   "source": []
  }
 ],
 "metadata": {
  "kernelspec": {
   "display_name": "Python 3 (ipykernel)",
   "language": "python",
   "name": "python3"
  },
  "language_info": {
   "codemirror_mode": {
    "name": "ipython",
    "version": 3
   },
   "file_extension": ".py",
   "mimetype": "text/x-python",
   "name": "python",
   "nbconvert_exporter": "python",
   "pygments_lexer": "ipython3",
   "version": "3.10.13"
  }
 },
 "nbformat": 4,
 "nbformat_minor": 5
}
